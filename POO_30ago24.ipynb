{
  "nbformat": 4,
  "nbformat_minor": 0,
  "metadata": {
    "colab": {
      "provenance": [],
      "authorship_tag": "ABX9TyPlsBAlHwbThQYNdaMMjYdp",
      "include_colab_link": true
    },
    "kernelspec": {
      "name": "python3",
      "display_name": "Python 3"
    },
    "language_info": {
      "name": "python"
    }
  },
  "cells": [
    {
      "cell_type": "markdown",
      "metadata": {
        "id": "view-in-github",
        "colab_type": "text"
      },
      "source": [
        "<a href=\"https://colab.research.google.com/github/igarashimassaki/POO_COO2024-2/blob/main/POO_30ago24.ipynb\" target=\"_parent\"><img src=\"https://colab.research.google.com/assets/colab-badge.svg\" alt=\"Open In Colab\"/></a>"
      ]
    },
    {
      "cell_type": "markdown",
      "source": [
        "Ex.1) Converter F para C\n",
        "OBS:\n",
        "Entrada: F\n",
        "Processamento: C = (5/9)(F-32)\n",
        "Saída: C\n"
      ],
      "metadata": {
        "id": "vf8sdvm2dZhQ"
      }
    },
    {
      "cell_type": "code",
      "execution_count": null,
      "metadata": {
        "colab": {
          "base_uri": "https://localhost:8080/"
        },
        "id": "jxYrjkIyX_hd",
        "outputId": "df123a5d-23bc-4f28-e855-8c0544b18d8e"
      },
      "outputs": [
        {
          "output_type": "stream",
          "name": "stdout",
          "text": [
            "Digite valor em Graus Farenheit: 32\n",
            "Graus Celsius:  0.0\n"
          ]
        }
      ],
      "source": [
        "F = float(input(\"Digite valor em Graus Farenheit: \"))\n",
        "C = (5/9)*(F-32)\n",
        "print(\"Graus Celsius: \", C)\n"
      ]
    },
    {
      "cell_type": "markdown",
      "source": [
        "#Resolução do mesmo exercício usando a função (método) printf"
      ],
      "metadata": {
        "id": "rLs1kRG8fd5B"
      }
    },
    {
      "cell_type": "code",
      "source": [
        "F = float(input(\"Digite valor em Graus Farenheit: \"))\n",
        "C = (5/9)*(F-32)\n",
        "print(f\"O valor de {F}ºF corresponde ao valor de {C}ºC\")"
      ],
      "metadata": {
        "colab": {
          "base_uri": "https://localhost:8080/"
        },
        "id": "xwLdhuLIfs0R",
        "outputId": "f07b55c5-e4bf-4d04-8646-2f35c8ed5f2d"
      },
      "execution_count": null,
      "outputs": [
        {
          "output_type": "stream",
          "name": "stdout",
          "text": [
            "Digite valor em Graus Farenheit: 50\n",
            "O valor de 50.0ºF corresponde ao valor de 10.0ºC\n"
          ]
        }
      ]
    },
    {
      "cell_type": "markdown",
      "source": [
        "#EX02) Converter Polegadas para mm\n",
        "Entrada: P\n",
        "\n",
        "Processamento: MM = P*25.4\n",
        "\n",
        "Saída: MM\n"
      ],
      "metadata": {
        "id": "bQOevSDDjpTa"
      }
    },
    {
      "cell_type": "code",
      "source": [
        "P = float(input(\"Digite valor em Polegadas: \"))\n",
        "MM = P*25.4\n",
        "print(f\"O valor de {P}pol corresponde ao valor de {MM:.1f}mm\")"
      ],
      "metadata": {
        "colab": {
          "base_uri": "https://localhost:8080/"
        },
        "id": "bnwqgLiTj9-i",
        "outputId": "86aaf52a-4996-4ad5-e221-0ad6deda6f37"
      },
      "execution_count": null,
      "outputs": [
        {
          "output_type": "stream",
          "name": "stdout",
          "text": [
            "Digite valor em Polegadas: 10.1111111\n",
            "O valor de 10.1111111pol corresponde ao valor de 256.8mm\n"
          ]
        }
      ]
    },
    {
      "cell_type": "markdown",
      "source": [
        "#PROGRAMA VERIFICADOR DE IDADE PARA VOTAÇÃO"
      ],
      "metadata": {
        "id": "heqAdkd7o-g-"
      }
    },
    {
      "cell_type": "code",
      "source": [
        "#ENTRADA: Idade\n",
        "#SAÍDA: \"Pode Votar ou Não\"\n",
        "\n",
        "idade = int(input(\"Digite sua idade: \"))\n",
        " if idade >= 18:\n",
        "  print(\"Pode Votar\")\n",
        "else:\n",
        "  print(\"Não Pode Votar\")\n"
      ],
      "metadata": {
        "colab": {
          "base_uri": "https://localhost:8080/",
          "height": 111
        },
        "id": "h_rFS13UpCDC",
        "outputId": "7ac87c2b-b79b-45db-8a5f-0aa4684f0524"
      },
      "execution_count": null,
      "outputs": [
        {
          "output_type": "error",
          "ename": "IndentationError",
          "evalue": "unexpected indent (<ipython-input-20-1a2b8e85e3db>, line 5)",
          "traceback": [
            "\u001b[0;36m  File \u001b[0;32m\"<ipython-input-20-1a2b8e85e3db>\"\u001b[0;36m, line \u001b[0;32m5\u001b[0m\n\u001b[0;31m    if idade >= 18:\u001b[0m\n\u001b[0m    ^\u001b[0m\n\u001b[0;31mIndentationError\u001b[0m\u001b[0;31m:\u001b[0m unexpected indent\n"
          ]
        }
      ]
    }
  ]
}